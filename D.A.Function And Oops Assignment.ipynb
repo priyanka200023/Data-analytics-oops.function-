{
 "cells": [
  {
   "cell_type": "markdown",
   "id": "c1bed3f1",
   "metadata": {},
   "source": [
    "# D.A  FUNCTION & OOPS Assignment"
   ]
  },
  {
   "cell_type": "raw",
   "id": "4788edd5",
   "metadata": {},
   "source": [
    "Q.1)  explain the importance of function."
   ]
  },
  {
   "cell_type": "markdown",
   "id": "f5d6d092",
   "metadata": {},
   "source": [
    "\n",
    "\n",
    "\n",
    "1. Code Reusability\n",
    "Functions allow you to write a block of code once and reuse it multiple times throughout your program. This helps in reducing redundancy and makes your code more efficient and manageable.\n",
    "\n",
    "2. Modularity\n",
    "By breaking down a program into smaller, manageable functions, you can focus on one part of the problem at a time. This modular approach makes it easier to debug, test, and maintain your code.\n",
    "\n",
    "3. Readability\n",
    "Functions can make your code more readable and understandable. By giving functions descriptive names, you can convey the purpose of the code more clearly. This is especially helpful when working in teams or when you revisit your code after some time.\n",
    "\n",
    "4. Abstraction\n",
    "Functions allow you to abstract away complex operations. You can use a function without needing to understand its internal workings, as long as you know what it does and how to use it. This simplifies the overall complexity of your code.\n",
    "\n",
    "5. Maintainability\n",
    "When your code is organized into functions, it becomes easier to update and maintain. If a change is needed, you can modify the function in one place rather than updating multiple instances of the same code."
   ]
  },
  {
   "cell_type": "raw",
   "id": "39f48bc3",
   "metadata": {},
   "source": [
    "Q.2) write a basic function to greet student."
   ]
  },
  {
   "cell_type": "code",
   "execution_count": 1,
   "id": "16e40ae4",
   "metadata": {},
   "outputs": [
    {
     "name": "stdout",
     "output_type": "stream",
     "text": [
      "Hello, Alice! Welcome to the class.\n",
      "Hello, Bob! Welcome to the class.\n"
     ]
    }
   ],
   "source": [
    "def greet_student(name):\n",
    "    \"\"\"Function to greet a student\"\"\"\n",
    "    print(f\"Hello, {name}! Welcome to the class.\")\n",
    "\n",
    "# Calling the function\n",
    "greet_student(\"Alice\")\n",
    "greet_student(\"Bob\")"
   ]
  },
  {
   "cell_type": "markdown",
   "id": "20faed42",
   "metadata": {},
   "source": [
    "Q.3) what is the difference between print and return statement?"
   ]
  },
  {
   "cell_type": "code",
   "execution_count": 3,
   "id": "07d55932",
   "metadata": {},
   "outputs": [],
   "source": [
    "\n",
    "# The print and return statements in Python serve different purposes and are used in different contexts. Here’s a breakdown of their differences:\n",
    "\n",
    "# print Statement\n",
    "# Purpose: The print statement is used to display information or output to the console.\n",
    "# Effect on Program Flow: It does not affect the program’s control flow; it simply displays the output.\n",
    "# Usage: Typically used for debugging or providing information to the user.\n",
    "# \n",
    "\n",
    "# return Statement\n",
    "# Purpose: The return statement is used to exit a function and provide a result to the calling code.\n",
    "# Effect on Program Flow: It ends the function’s execution and sends a value back to the caller.\n",
    "# Usage: Used to pass data from a function to the part of the program that called it.\n",
    "# "
   ]
  },
  {
   "cell_type": "code",
   "execution_count": 9,
   "id": "0e2165a5",
   "metadata": {},
   "outputs": [
    {
     "name": "stdout",
     "output_type": "stream",
     "text": [
      "Hello, Alice!\n"
     ]
    }
   ],
   "source": [
    "# print statement example\n",
    "def greet(name):\n",
    "    print(f\"Hello, {name}!\")\n",
    "\n",
    "greet(\"Alice\")"
   ]
  },
  {
   "cell_type": "code",
   "execution_count": 8,
   "id": "cbaa2165",
   "metadata": {},
   "outputs": [
    {
     "name": "stdout",
     "output_type": "stream",
     "text": [
      "7\n"
     ]
    }
   ],
   "source": [
    "# return statement ex.\n",
    "def add(a, b):\n",
    "    return a + b\n",
    "\n",
    "result = add(3, 4)\n",
    "print(result)"
   ]
  },
  {
   "cell_type": "markdown",
   "id": "e8efe0ed",
   "metadata": {},
   "source": [
    "Q.4) what is 'args' and **kwargs ?"
   ]
  },
  {
   "cell_type": "code",
   "execution_count": 15,
   "id": "ec361a6e",
   "metadata": {},
   "outputs": [],
   "source": [
    "# args is used to variable numbers of non keyword argument to a function.\n",
    "# allows a function to accept any number of positional argument."
   ]
  },
  {
   "cell_type": "code",
   "execution_count": 13,
   "id": "a4b7c052",
   "metadata": {},
   "outputs": [
    {
     "name": "stdout",
     "output_type": "stream",
     "text": [
      "Hello, Alice!\n",
      "Hello, Bob!\n",
      "Hello, Charlie!\n"
     ]
    }
   ],
   "source": [
    "def greet(*names):\n",
    "\n",
    "    for name in names:\n",
    "        print(f\"Hello, {name}!\")\n",
    "\n",
    "greet(\"Alice\", \"Bob\", \"Charlie\")"
   ]
  },
  {
   "cell_type": "raw",
   "id": "c3adb94c",
   "metadata": {},
   "source": [
    "**kwargs used to pass a variable number of keyword argument to a function.\n",
    "# allows a function to aaccept any number of arguments."
   ]
  },
  {
   "cell_type": "code",
   "execution_count": 16,
   "id": "d699b090",
   "metadata": {},
   "outputs": [
    {
     "name": "stdout",
     "output_type": "stream",
     "text": [
      "name:Alice\n",
      "age:25\n",
      "city:new york\n"
     ]
    }
   ],
   "source": [
    "def display_info(**info):\n",
    "    for key, value in info.items():\n",
    "        print(f\"{key}:{value}\")\n",
    "        \n",
    "display_info(name =\"Alice\", age=25,city=\"new york\")"
   ]
  },
  {
   "cell_type": "markdown",
   "id": "8b38e417",
   "metadata": {},
   "source": [
    "Q.5) explain the iterator function?"
   ]
  },
  {
   "cell_type": "raw",
   "id": "1ceaaf97",
   "metadata": {},
   "source": [
    "\n",
    "# __iter__(): This method initializes the iterator. It returns the iterator object itself.\n",
    "# __next__(): This method returns the next item in the sequence. When there are no more items to return, it raises a StopIteration exception to signal the end of the iteration.\n",
    "# Using Built-in Iterators\n",
    "# Python provides built-in functions to create iterators from iterable objects:\n",
    "\n",
    "# iter(): This function returns an iterator from an iterable object.\n",
    "# next(): This function retrieves the next item from an iterator."
   ]
  },
  {
   "cell_type": "code",
   "execution_count": 17,
   "id": "a8545ae4",
   "metadata": {},
   "outputs": [
    {
     "name": "stdout",
     "output_type": "stream",
     "text": [
      "1\n",
      "2\n",
      "3\n",
      "4\n",
      "5\n"
     ]
    }
   ],
   "source": [
    "\n",
    "\n",
    "class MyNumbers:\n",
    "    def __iter__(self):\n",
    "        self.a = 1\n",
    "        return self\n",
    "\n",
    "    def __next__(self):\n",
    "        if self.a <= 5:\n",
    "            x = self.a\n",
    "            self.a += 1\n",
    "            return x\n",
    "        else:\n",
    "            raise StopIteration\n",
    "\n",
    "myclass = MyNumbers()\n",
    "myiter = iter(myclass)\n",
    "\n",
    "for num in myiter:\n",
    "    print(num)"
   ]
  },
  {
   "cell_type": "code",
   "execution_count": 18,
   "id": "9b493aaf",
   "metadata": {},
   "outputs": [],
   "source": [
    "my_list = [1, 2, 3, 4, 5]\n",
    "my_iter = iter(my_list)"
   ]
  },
  {
   "cell_type": "code",
   "execution_count": 19,
   "id": "01c04f96",
   "metadata": {},
   "outputs": [
    {
     "name": "stdout",
     "output_type": "stream",
     "text": [
      "1\n",
      "2\n",
      "3\n"
     ]
    }
   ],
   "source": [
    "print(next(my_iter))\n",
    "print(next(my_iter))  \n",
    "print(next(my_iter))  "
   ]
  },
  {
   "cell_type": "markdown",
   "id": "1ef9b971",
   "metadata": {},
   "source": [
    "Q.6) write a generates the square of numbers from 1 to n using a generator."
   ]
  },
  {
   "cell_type": "code",
   "execution_count": 22,
   "id": "ea1b1f9a",
   "metadata": {},
   "outputs": [
    {
     "name": "stdout",
     "output_type": "stream",
     "text": [
      "1\n",
      "4\n",
      "9\n",
      "16\n",
      "25\n",
      "36\n",
      "49\n",
      "64\n",
      "81\n",
      "100\n"
     ]
    }
   ],
   "source": [
    "\n",
    "\n",
    "def generate_squares(n):\n",
    "    for i in range(1, n + 1):\n",
    "        yield i ** 2\n",
    "\n",
    "# Example usage:\n",
    "n = 10\n",
    "squares_generator = generate_squares(n)\n",
    "\n",
    "for square in squares_generator:\n",
    "    print(square)"
   ]
  },
  {
   "cell_type": "raw",
   "id": "7b433385",
   "metadata": {},
   "source": [
    "Q.7) write a program to generates palindromic numbers up to a using a generator."
   ]
  },
  {
   "cell_type": "code",
   "execution_count": 23,
   "id": "416154e8",
   "metadata": {},
   "outputs": [
    {
     "name": "stdout",
     "output_type": "stream",
     "text": [
      "1\n",
      "2\n",
      "3\n",
      "4\n",
      "5\n",
      "6\n",
      "7\n",
      "8\n",
      "9\n",
      "11\n",
      "22\n",
      "33\n",
      "44\n",
      "55\n",
      "66\n",
      "77\n",
      "88\n",
      "99\n",
      "101\n",
      "111\n",
      "121\n",
      "131\n",
      "141\n",
      "151\n",
      "161\n",
      "171\n",
      "181\n",
      "191\n"
     ]
    }
   ],
   "source": [
    "def is_palindrome(num):\n",
    "    return str(num) == str(num)[::-1]\n",
    "\n",
    "def generate_palindromes(n):\n",
    "    for i in range(1, n + 1):\n",
    "        if is_palindrome(i):\n",
    "            yield i\n",
    "\n",
    "# Example usage:\n",
    "n = 200\n",
    "palindromes_generator = generate_palindromes(n)\n",
    "\n",
    "for palindrome in palindromes_generator:\n",
    "    print(palindrome)\n"
   ]
  },
  {
   "cell_type": "raw",
   "id": "67402732",
   "metadata": {},
   "source": [
    "Q.8) write a code that generates even numbers from 2 to n using generator. "
   ]
  },
  {
   "cell_type": "code",
   "execution_count": 25,
   "id": "893f5516",
   "metadata": {},
   "outputs": [
    {
     "name": "stdout",
     "output_type": "stream",
     "text": [
      "2\n",
      "4\n",
      "6\n",
      "8\n",
      "10\n",
      "12\n",
      "14\n",
      "16\n",
      "18\n",
      "20\n"
     ]
    }
   ],
   "source": [
    "def generate_evens(n):\n",
    "    for i in range(2, n + 1, 2):\n",
    "        yield i\n",
    "\n",
    "# Example usage:\n",
    "n = 20\n",
    "evens_generator = generate_evens(n)\n",
    "\n",
    "for even in evens_generator:\n",
    "    print(even)"
   ]
  },
  {
   "cell_type": "raw",
   "id": "1af73774",
   "metadata": {},
   "source": [
    "Q.9) write a code that generates power of two up to n using a generators."
   ]
  },
  {
   "cell_type": "code",
   "execution_count": 26,
   "id": "d7ddfe96",
   "metadata": {},
   "outputs": [
    {
     "name": "stdout",
     "output_type": "stream",
     "text": [
      "1\n",
      "2\n",
      "4\n",
      "8\n",
      "16\n",
      "32\n",
      "64\n",
      "128\n",
      "256\n",
      "512\n",
      "1024\n"
     ]
    }
   ],
   "source": [
    "def generate_powers_of_two(n):\n",
    "    for i in range(n + 1):\n",
    "        yield 2 ** i\n",
    "\n",
    "# Example usage:\n",
    "n = 10\n",
    "powers_of_two_generator = generate_powers_of_two(n)\n",
    "\n",
    "for power in powers_of_two_generator:\n",
    "    print(power)\n"
   ]
  },
  {
   "cell_type": "raw",
   "id": "e68f541a",
   "metadata": {},
   "source": [
    "10) write a code that generates prime numbers up to a using generator."
   ]
  },
  {
   "cell_type": "code",
   "execution_count": 27,
   "id": "dd4e2050",
   "metadata": {},
   "outputs": [
    {
     "name": "stdout",
     "output_type": "stream",
     "text": [
      "2\n",
      "3\n",
      "5\n",
      "7\n",
      "11\n",
      "13\n",
      "17\n",
      "19\n",
      "23\n",
      "29\n",
      "31\n",
      "37\n",
      "41\n",
      "43\n",
      "47\n"
     ]
    }
   ],
   "source": [
    "def is_prime(num):\n",
    "    if num < 2:\n",
    "        return False\n",
    "    for i in range(2, int(num ** 0.5) + 1):\n",
    "        if num % i == 0:\n",
    "            return False\n",
    "    return True\n",
    "\n",
    "def generate_primes(n):\n",
    "    for num in range(2, n + 1):\n",
    "        if is_prime(num):\n",
    "            yield num\n",
    "\n",
    "# Example usage:\n",
    "n = 50\n",
    "primes_generator = generate_primes(n)\n",
    "\n",
    "for prime in primes_generator:\n",
    "    print(prime)"
   ]
  },
  {
   "cell_type": "raw",
   "id": "9dcc3942",
   "metadata": {},
   "source": [
    "Q.11) write a code that uses a lambda function to calculate the sum of two numbers."
   ]
  },
  {
   "cell_type": "code",
   "execution_count": 28,
   "id": "607d550d",
   "metadata": {},
   "outputs": [
    {
     "name": "stdout",
     "output_type": "stream",
     "text": [
      "The sum of 5 and 3 is 8\n"
     ]
    }
   ],
   "source": [
    "# Define the lambda function\n",
    "sum_numbers = lambda x, y: x + y\n",
    "\n",
    "# Example usage\n",
    "num1 = 5\n",
    "num2 = 3\n",
    "result = sum_numbers(num1, num2)\n",
    "\n",
    "print(f\"The sum of {num1} and {num2} is {result}\")"
   ]
  },
  {
   "cell_type": "raw",
   "id": "c674e150",
   "metadata": {},
   "source": [
    "Q.12) write a code that uses a lambda function to the square of a given number."
   ]
  },
  {
   "cell_type": "code",
   "execution_count": 29,
   "id": "32c8696e",
   "metadata": {},
   "outputs": [
    {
     "name": "stdout",
     "output_type": "stream",
     "text": [
      "The square of 7 is 49\n"
     ]
    }
   ],
   "source": [
    "# Define the lambda function\n",
    "square = lambda x: x ** 2\n",
    "\n",
    "# Example usage\n",
    "num = 7\n",
    "result = square(num)\n",
    "\n",
    "print(f\"The square of {num} is {result}\")\n",
    "\n"
   ]
  },
  {
   "cell_type": "raw",
   "id": "8f8f5f39",
   "metadata": {},
   "source": [
    "Q.13) write a code that uses a lamda function to check wheather a given number is even or odd."
   ]
  },
  {
   "cell_type": "code",
   "execution_count": 30,
   "id": "407bf7be",
   "metadata": {},
   "outputs": [
    {
     "name": "stdout",
     "output_type": "stream",
     "text": [
      "The number 7 is odd.\n"
     ]
    }
   ],
   "source": [
    "# Define the lambda function\n",
    "check_even_odd = lambda num: \"even\" if num % 2 == 0 else \"odd\"\n",
    "\n",
    "# Example usage\n",
    "number = 7\n",
    "result = check_even_odd(number)\n",
    "\n",
    "print(f\"The number {number} is {result}.\")"
   ]
  },
  {
   "cell_type": "raw",
   "id": "bf877e4e",
   "metadata": {},
   "source": [
    "Q.14) write a code uses a lambda function to concatenate two string."
   ]
  },
  {
   "cell_type": "code",
   "execution_count": 31,
   "id": "27c2ce82",
   "metadata": {},
   "outputs": [
    {
     "name": "stdout",
     "output_type": "stream",
     "text": [
      "The concatenated string is: HelloWorld\n"
     ]
    }
   ],
   "source": [
    "# Define the lambda function\n",
    "concatenate_strings = lambda s1, s2: s1 + s2\n",
    "\n",
    "# Example usage\n",
    "string1 = \"Hello\"\n",
    "string2 = \"World\"\n",
    "result = concatenate_strings(string1, string2)\n",
    "\n",
    "print(f\"The concatenated string is: {result}\")\n"
   ]
  },
  {
   "cell_type": "raw",
   "id": "2f31da68",
   "metadata": {},
   "source": [
    "Q.15) write a code that uses a lamda function to find the maximum of three numbers."
   ]
  },
  {
   "cell_type": "code",
   "execution_count": 32,
   "id": "a9f41038",
   "metadata": {},
   "outputs": [
    {
     "name": "stdout",
     "output_type": "stream",
     "text": [
      "The maximum of 10, 25, and 15 is 25\n"
     ]
    }
   ],
   "source": [
    "# Define the lambda function\n",
    "find_max = lambda x, y, z: max(x, y, z)\n",
    "\n",
    "# Example usage\n",
    "num1 = 10\n",
    "num2 = 25\n",
    "num3 = 15\n",
    "result = find_max(num1, num2, num3)\n",
    "\n",
    "print(f\"The maximum of {num1}, {num2}, and {num3} is {result}\")"
   ]
  },
  {
   "cell_type": "raw",
   "id": "bca13dc2",
   "metadata": {},
   "source": [
    "Q.17)  write a code that  generates the square of even numbers from a given list."
   ]
  },
  {
   "cell_type": "code",
   "execution_count": 33,
   "id": "1d947999",
   "metadata": {},
   "outputs": [
    {
     "name": "stdout",
     "output_type": "stream",
     "text": [
      "4\n",
      "16\n",
      "36\n",
      "64\n",
      "100\n"
     ]
    }
   ],
   "source": [
    "def square_even_numbers(numbers):\n",
    "    for num in numbers:\n",
    "        if num % 2 == 0:\n",
    "            yield num ** 2\n",
    "\n",
    "# Example usage\n",
    "numbers_list = [1, 2, 3, 4, 5, 6, 7, 8, 9, 10]\n",
    "squares_generator = square_even_numbers(numbers_list)\n",
    "\n",
    "for square in squares_generator:\n",
    "    print(square)"
   ]
  },
  {
   "cell_type": "raw",
   "id": "22530ae2",
   "metadata": {},
   "source": [
    "Q.18) write a code that calculates yhe product of positive numbers from a given list."
   ]
  },
  {
   "cell_type": "code",
   "execution_count": 34,
   "id": "feb3318e",
   "metadata": {},
   "outputs": [
    {
     "name": "stdout",
     "output_type": "stream",
     "text": [
      "The product of positive numbers in the list is: 72\n"
     ]
    }
   ],
   "source": [
    "def product_of_positives(numbers):\n",
    "    product = 1\n",
    "    for num in numbers:\n",
    "        if num > 0:\n",
    "            product *= num\n",
    "    return product\n",
    "\n",
    "# Example usage\n",
    "numbers_list = [1, -2, 3, 4, -5, 6]\n",
    "result = product_of_positives(numbers_list)\n",
    "\n",
    "print(f\"The product of positive numbers in the list is: {result}\")\n"
   ]
  },
  {
   "cell_type": "raw",
   "id": "3aebaf33",
   "metadata": {},
   "source": [
    "Q.19) write a code that duble the value of odd numbers from a given list."
   ]
  },
  {
   "cell_type": "code",
   "execution_count": 35,
   "id": "07f16e0e",
   "metadata": {},
   "outputs": [
    {
     "name": "stdout",
     "output_type": "stream",
     "text": [
      "The list with doubled odd numbers is: [2, 2, 6, 4, 10, 6, 14, 8, 18, 10]\n"
     ]
    }
   ],
   "source": [
    "def double_odd_numbers(numbers):\n",
    "    return [num * 2 if num % 2 != 0 else num for num in numbers]\n",
    "\n",
    "# Example usage\n",
    "numbers_list = [1, 2, 3, 4, 5, 6, 7, 8, 9, 10]\n",
    "doubled_odds = double_odd_numbers(numbers_list)\n",
    "\n",
    "print(f\"The list with doubled odd numbers is: {doubled_odds}\")\n"
   ]
  },
  {
   "cell_type": "raw",
   "id": "9e36c4ca",
   "metadata": {},
   "source": [
    "Q.20) write a code that calculates the sum of cubes from a given list."
   ]
  },
  {
   "cell_type": "code",
   "execution_count": 36,
   "id": "d16f4a98",
   "metadata": {},
   "outputs": [
    {
     "name": "stdout",
     "output_type": "stream",
     "text": [
      "The sum of cubes of the numbers in the list is: 225\n"
     ]
    }
   ],
   "source": [
    "def sum_of_cubes(numbers):\n",
    "    return sum(num ** 3 for num in numbers)\n",
    "\n",
    "# Example usage\n",
    "numbers_list = [1, 2, 3, 4, 5]\n",
    "result = sum_of_cubes(numbers_list)\n",
    "\n",
    "print(f\"The sum of cubes of the numbers in the list is: {result}\")"
   ]
  },
  {
   "cell_type": "raw",
   "id": "d14be1fa",
   "metadata": {},
   "source": [
    "Q.21) write a code that filters out prime numbers from a given list."
   ]
  },
  {
   "cell_type": "code",
   "execution_count": 37,
   "id": "beda518b",
   "metadata": {},
   "outputs": [
    {
     "name": "stdout",
     "output_type": "stream",
     "text": [
      "The prime numbers in the list are: [2, 3, 5, 7, 11, 13, 17]\n"
     ]
    }
   ],
   "source": [
    "def is_prime(num):\n",
    "    if num < 2:\n",
    "        return False\n",
    "    for i in range(2, int(num ** 0.5) + 1):\n",
    "        if num % i == 0:\n",
    "            return False\n",
    "    return True\n",
    "\n",
    "def filter_primes(numbers):\n",
    "    return [num for num in numbers if is_prime(num)]\n",
    "\n",
    "# Example usage\n",
    "numbers_list = [1, 2, 3, 4, 5, 6, 7, 8, 9, 10, 11, 12, 13, 14, 15, 16, 17]\n",
    "primes_list = filter_primes(numbers_list)\n",
    "\n",
    "print(f\"The prime numbers in the list are: {primes_list}\")"
   ]
  },
  {
   "cell_type": "raw",
   "id": "1a332e76",
   "metadata": {},
   "source": [
    "Q.22) write a code that uses a lambda function to calculates the sum of two numbers."
   ]
  },
  {
   "cell_type": "code",
   "execution_count": 38,
   "id": "e858050f",
   "metadata": {},
   "outputs": [
    {
     "name": "stdout",
     "output_type": "stream",
     "text": [
      "The sum of 10 and 15 is 25\n"
     ]
    }
   ],
   "source": [
    "# Define the lambda function\n",
    "sum_numbers = lambda x, y: x + y\n",
    "\n",
    "# Example usage\n",
    "num1 = 10\n",
    "num2 = 15\n",
    "result = sum_numbers(num1, num2)\n",
    "\n",
    "print(f\"The sum of {num1} and {num2} is {result}\")"
   ]
  },
  {
   "cell_type": "raw",
   "id": "4753a100",
   "metadata": {},
   "source": [
    "Q.23) write a code that uses of lambda function to calculate the square of a given numbers."
   ]
  },
  {
   "cell_type": "code",
   "execution_count": 39,
   "id": "8d8addea",
   "metadata": {},
   "outputs": [
    {
     "name": "stdout",
     "output_type": "stream",
     "text": [
      "The square of 8 is 64\n"
     ]
    }
   ],
   "source": [
    "# Define the lambda function\n",
    "square = lambda x: x ** 2\n",
    "\n",
    "# Example usage\n",
    "num = 8\n",
    "result = square(num)\n",
    "\n",
    "print(f\"The square of {num} is {result}\")\n"
   ]
  },
  {
   "cell_type": "raw",
   "id": "22751056",
   "metadata": {},
   "source": [
    "Q.24) write a code that uses of lambda function to calculate check number a given is even or odd."
   ]
  },
  {
   "cell_type": "code",
   "execution_count": 40,
   "id": "b05f13fc",
   "metadata": {},
   "outputs": [
    {
     "name": "stdout",
     "output_type": "stream",
     "text": [
      "The number 7 is odd.\n"
     ]
    }
   ],
   "source": [
    "# Define the lambda function\n",
    "check_even_odd = lambda num: \"even\" if num % 2 == 0 else \"odd\"\n",
    "\n",
    "# Example usage\n",
    "number = 7\n",
    "result = check_even_odd(number)\n",
    "\n",
    "print(f\"The number {number} is {result}.\")"
   ]
  },
  {
   "cell_type": "raw",
   "id": "2d36e42e",
   "metadata": {},
   "source": [
    "Q.25) write a code that uses a lambda function to concatenate two string. "
   ]
  },
  {
   "cell_type": "code",
   "execution_count": 41,
   "id": "5a890c34",
   "metadata": {},
   "outputs": [
    {
     "name": "stdout",
     "output_type": "stream",
     "text": [
      "The concatenated string is: HelloWorld\n"
     ]
    }
   ],
   "source": [
    "# Define the lambda function\n",
    "concatenate_strings = lambda s1, s2: s1 + s2\n",
    "\n",
    "# Example usage\n",
    "string1 = \"Hello\"\n",
    "string2 = \"World\"\n",
    "result = concatenate_strings(string1, string2)\n",
    "\n",
    "print(f\"The concatenated string is: {result}\")\n"
   ]
  },
  {
   "cell_type": "raw",
   "id": "28a5d6cc",
   "metadata": {},
   "source": [
    "Q.26) write a code that uses a lambda function to find the maximum of three given numbers."
   ]
  },
  {
   "cell_type": "code",
   "execution_count": 42,
   "id": "32620b52",
   "metadata": {},
   "outputs": [
    {
     "name": "stdout",
     "output_type": "stream",
     "text": [
      "The maximum of 10, 25, and 15 is 25\n"
     ]
    }
   ],
   "source": [
    "# Define the lambda function\n",
    "find_max = lambda x, y, z: max(x, y, z)\n",
    "\n",
    "# Example usage\n",
    "num1 = 10\n",
    "num2 = 25\n",
    "num3 = 15\n",
    "result = find_max(num1, num2, num3)\n",
    "\n",
    "print(f\"The maximum of {num1}, {num2}, and {num3} is {result}\")"
   ]
  },
  {
   "cell_type": "raw",
   "id": "166f93fd",
   "metadata": {},
   "source": [
    "Q.27) what is encapsulation in oop?"
   ]
  },
  {
   "cell_type": "raw",
   "id": "97106a9c",
   "metadata": {},
   "source": [
    "# In Python, encapsulation is achieved through the use of access modifiers. These modifiers control the visibility of class attributes and methods from outside the class. There are three common access modifiers:\n",
    "\n",
    "# Public: Members are accessible from outside the class.\n",
    "# Protected: Members are accessible within the class and its subclasses.\n",
    "# In Python, this is indicated by a single underscore prefix (e.g., _attribute).\n",
    "# Private: Members are only accessible within the class.\n",
    "#     In Python, this is indicated by a double underscore prefix (e.g., __attribute).\n",
    "# Here’s an example to illustrate encapsulation in Python:\n"
   ]
  },
  {
   "cell_type": "code",
   "execution_count": 44,
   "id": "0953281a",
   "metadata": {},
   "outputs": [
    {
     "name": "stdout",
     "output_type": "stream",
     "text": [
      "10\n",
      "20\n",
      "30\n"
     ]
    }
   ],
   "source": [
    "class MyClass:\n",
    "    def __init__(self, public, protected, private):\n",
    "        self.public = public\n",
    "        self._protected = protected\n",
    "        self.__private = private\n",
    "\n",
    "    def get_private(self):\n",
    "        return self.__private\n",
    "\n",
    "# Example usage\n",
    "obj = MyClass(10, 20, 30)\n",
    "\n",
    "# Accessing public member\n",
    "print(obj.public)  # Output: 10\n",
    "\n",
    "# Accessing protected member (not recommended)\n",
    "print(obj._protected)  # Output: 20\n",
    "\n",
    "# Accessing private member (will raise an AttributeError)\n",
    "# print(obj.__private)  # Uncommenting this line will raise an error\n",
    "\n",
    "# Accessing private member through a public method\n",
    "print(obj.get_private())  "
   ]
  },
  {
   "cell_type": "raw",
   "id": "4778d6f3",
   "metadata": {},
   "source": [
    "Q.28) explain the use of access modifiers in python classes."
   ]
  },
  {
   "cell_type": "code",
   "execution_count": 4,
   "id": "fdba0723",
   "metadata": {},
   "outputs": [
    {
     "name": "stdout",
     "output_type": "stream",
     "text": [
      "Name: Bob, Salary: 50000\n",
      "Account Number: 123456, Balance: 1000\n"
     ]
    }
   ],
   "source": [
    "\n",
    "# In Python, access modifiers are used to control the visibility and accessibility of class members (attributes and methods). Python has three types of access modifiers: public, protected, and private. Here’s a brief overview of each:\n",
    "\n",
    "# 1. Public Access Modifier\n",
    "# Public members are accessible from anywhere in the program.\n",
    "# By default, all members of a class are public.\n",
    "# Example:\n",
    "\n",
    "class Person:\n",
    "    def __init__(self, name, age):\n",
    "        self.name = name  # public attribute\n",
    "        self.age = age    # public attribute\n",
    "\n",
    "    def display(self):\n",
    "        print(f\"Name: {self.name}, Age: {self.age}\")\n",
    "\n",
    "# person = Person(\"Alice\", 30)\n",
    "# print(person.name)  # Accessing public attribute\n",
    "# person.display()    # Calling public method\n",
    "# AI-generated code. Review and use carefully. More info on FAQ.\n",
    "# 2. Protected Access Modifier\n",
    "# Protected members are accessible within the class and its subclasses.\n",
    "# They are defined by prefixing the member name with a single underscore _.\n",
    "# Example:\n",
    "\n",
    "class Employee:\n",
    "    def __init__(self, name, salary):\n",
    "        self._name = name      # protected attribute\n",
    "        self._salary = salary  # protected attribute\n",
    "\n",
    "    def _display(self):        # protected method\n",
    "        print(f\"Name: {self._name}, Salary: {self._salary}\")\n",
    "\n",
    "class Manager(Employee):\n",
    "    def show(self):\n",
    "        self._display()  # Accessing protected method\n",
    "\n",
    "manager = Manager(\"Bob\", 50000)\n",
    "manager.show()  # Accessing protected method from subclass\n",
    "# AI-generated code. Review and use carefully. More info on FAQ.\n",
    "# 3. Private Access Modifier\n",
    "# Private members are accessible only within the class they are defined.\n",
    "# They are defined by prefixing the member name with a double underscore __.\n",
    "\n",
    "class BankAccount:\n",
    "    def __init__(self, account_number, balance):\n",
    "        self.__account_number = account_number  # private attribute\n",
    "        self.__balance = balance                # private attribute\n",
    "\n",
    "    def __display_balance(self):                # private method\n",
    "        print(f\"Account Number: {self.__account_number}, Balance: {self.__balance}\")\n",
    "\n",
    "    def show_balance(self):\n",
    "        self.__display_balance()  # Accessing private method within the class\n",
    "\n",
    "account = BankAccount(\"123456\", 1000)\n",
    "account.show_balance()  # Accessing private method through public method\n",
    "# print(account.balance)  # This will raise an AttributeError\n"
   ]
  },
  {
   "cell_type": "markdown",
   "id": "2030257c",
   "metadata": {},
   "source": [
    "Q.29) what is inheritance in oops?"
   ]
  },
  {
   "cell_type": "code",
   "execution_count": 5,
   "id": "2a223f77",
   "metadata": {},
   "outputs": [
    {
     "name": "stdout",
     "output_type": "stream",
     "text": [
      "Name: Alice, Age: 30\n",
      "Employee ID: E123\n"
     ]
    }
   ],
   "source": [
    "\n",
    "# Inheritance is a fundamental concept in object-oriented programming (OOP) that allows a class to inherit attributes and methods from another class. This promotes code reusability and establishes a hierarchical relationship between classes. In Python, inheritance is implemented by defining a new class that derives from an existing class.\n",
    "\n",
    "# Key Concepts of Inheritance\n",
    "# Parent Class (Base Class or Superclass): The class whose properties and methods are inherited.\n",
    "# Child Class (Derived Class or Subclass): The class that inherits from the parent class.\n",
    "# Benefits of Inheritance\n",
    "# Code Reusability: Allows you to reuse code across multiple classes without duplicating it.\n",
    "# Hierarchical Classification: Establishes a natural hierarchy between classes.\n",
    "# Extensibility: Enables adding new features to an existing class without modifying it.\n",
    "# Maintenance: Simplifies code maintenance by organizing code into a clear structure.\n",
    "# Types of Inheritance\n",
    "# Single Inheritance: A child class inherits from one parent class.\n",
    "# Multiple Inheritance: A child class inherits from more than one parent class.\n",
    "# Multilevel Inheritance: A class is derived from another class, which is also derived from another class.\n",
    "# Hierarchical Inheritance: Multiple classes inherit from a single parent class.\n",
    "# Hybrid Inheritance: A combination of two or more types of inheritance.\n",
    "# Example of Single Inheritance\n",
    "# Here’s a simple example to illustrate single inheritance in Python\n",
    "\n",
    "# Parent class\n",
    "class Person:\n",
    "    def __init__(self, name, age):\n",
    "        self.name = name\n",
    "        self.age = age\n",
    "\n",
    "    def display(self):\n",
    "        print(f\"Name: {self.name}, Age: {self.age}\")\n",
    "\n",
    "# Child class\n",
    "class Employee(Person):\n",
    "    def __init__(self, name, age, employee_id):\n",
    "        super().__init__(name, age)\n",
    "        self.employee_id = employee_id\n",
    "\n",
    "    def display_employee(self):\n",
    "        self.display()\n",
    "        print(f\"Employee ID: {self.employee_id}\")\n",
    "\n",
    "# Creating an object of the Employee class\n",
    "emp = Employee(\"Alice\", 30, \"E123\")\n",
    "emp.display_employee()\n",
    "\n",
    "# Explanation\n",
    "# Person Class: This is the parent class with attributes name and age, and a method display.\n",
    "# Employee Class: This is the child class that inherits from Person. It adds an additional attribute employee_id and a method display_employee that calls the parent class’s display method using super().\n",
    "# Using super()\n",
    "# The super() function is used to call the constructor of the parent class, allowing the child class to inherit and initialize the parent class’s attributes.\n",
    "\n",
    "# Would you like to see examples of other types of inheritance or have any specific questions about inheritance in Python?"
   ]
  },
  {
   "cell_type": "raw",
   "id": "82260dc4",
   "metadata": {},
   "source": [
    "Q.30) Define polymorphism in oops."
   ]
  },
  {
   "cell_type": "code",
   "execution_count": 6,
   "id": "9444dbc7",
   "metadata": {},
   "outputs": [
    {
     "name": "stdout",
     "output_type": "stream",
     "text": [
      "Chirp chirp\n",
      "Caw caw\n"
     ]
    }
   ],
   "source": [
    "# Key Aspects of Polymorphism\n",
    "# Method Overriding: Allows a subclass to provide a specific implementation of a method that is already defined in its superclass.\n",
    "# Operator Overloading: Enables the same operator to have different meanings based on the context (e.g., + can add numbers or concatenate strings).\n",
    "# Function Overloading: Allows functions to handle different types of inputs.\n",
    "# Examples of Polymorphism\n",
    "# Method Overriding\n",
    "\n",
    "class Bird:\n",
    "    def sound(self):\n",
    "        print(\"Some generic bird sound\")\n",
    "\n",
    "class Sparrow(Bird):\n",
    "    def sound(self):\n",
    "        print(\"Chirp chirp\")\n",
    "\n",
    "class Crow(Bird):\n",
    "    def sound(self):\n",
    "        print(\"Caw caw\")\n",
    "\n",
    "# Using polymorphism\n",
    "def make_sound(bird):\n",
    "    bird.sound()\n",
    "\n",
    "sparrow = Sparrow()\n",
    "crow = Crow()\n",
    "\n",
    "make_sound(sparrow)  # Output: Chirp chirp\n",
    "make_sound(crow)     # Output: Caw caw\n"
   ]
  },
  {
   "cell_type": "code",
   "execution_count": 7,
   "id": "6d470043",
   "metadata": {},
   "outputs": [
    {
     "name": "stdout",
     "output_type": "stream",
     "text": [
      "Vector(6, 8)\n"
     ]
    }
   ],
   "source": [
    "\n",
    "\n",
    "class Vector:\n",
    "    def __init__(self, x, y):\n",
    "        self.x = x\n",
    "        self.y = y\n",
    "\n",
    "    def __add__(self, other):\n",
    "        return Vector(self.x + other.x, self.y + other.y)\n",
    "\n",
    "    def __str__(self):\n",
    "        return f\"Vector({self.x}, {self.y})\"\n",
    "\n",
    "v1 = Vector(2, 3)\n",
    "v2 = Vector(4, 5)\n",
    "v3 = v1 + v2  # Uses the __add__ method\n",
    "print(v3)     # Output: Vector(6, 8)\n"
   ]
  },
  {
   "cell_type": "raw",
   "id": "823e69c3",
   "metadata": {},
   "source": [
    "Q.31) explain method overriding in python."
   ]
  },
  {
   "cell_type": "code",
   "execution_count": 8,
   "id": "5731a057",
   "metadata": {},
   "outputs": [
    {
     "name": "stdout",
     "output_type": "stream",
     "text": [
      "The dog barks\n",
      "The cat meows\n"
     ]
    }
   ],
   "source": [
    "\n",
    "# Same Method Name: The method in the subclass must have the same name as the method in the superclass.\n",
    "# Same Parameters: The method in the subclass should have the same parameters (signature) as the method in the superclass.\n",
    "# Inheritance: Method overriding is possible only when there is an inheritance relationship between classes.\n",
    "# Example of Method Overriding\n",
    "\n",
    "class Animal:\n",
    "    def sound(self):\n",
    "        print(\"This animal makes a sound\")\n",
    "\n",
    "# Child class\n",
    "class Dog(Animal):\n",
    "    def sound(self):\n",
    "        print(\"The dog barks\")\n",
    "\n",
    "# Child class\n",
    "class Cat(Animal):\n",
    "    def sound(self):\n",
    "        print(\"The cat meows\")\n",
    "\n",
    "# Creating objects of the child classes\n",
    "dog = Dog()\n",
    "cat = Cat()\n",
    "\n",
    "# Calling the overridden methods\n",
    "dog.sound()  # Output: The dog barks\n",
    "cat.sound()  # Output: The cat meows"
   ]
  },
  {
   "cell_type": "code",
   "execution_count": 9,
   "id": "6ceb625e",
   "metadata": {},
   "outputs": [
    {
     "name": "stdout",
     "output_type": "stream",
     "text": [
      "Birds make sounds\n",
      "Sparrow chirps\n"
     ]
    }
   ],
   "source": [
    "# Animal Class: This is the parent class with a method sound.\n",
    "# Dog Class: This is a child class that overrides the sound method to provide a specific implementation.\n",
    "# Cat Class: Another child class that also overrides the sound method.\n",
    "\n",
    "\n",
    "class Bird:\n",
    "    def sound(self):\n",
    "        print(\"Birds make sounds\")\n",
    "\n",
    "class Sparrow(Bird):\n",
    "    def sound(self):\n",
    "        super().sound()\n",
    "        print(\"Sparrow chirps\")\n",
    "\n",
    "sparrow = Sparrow()\n",
    "sparrow.sound()\n"
   ]
  },
  {
   "cell_type": "raw",
   "id": "665d594c",
   "metadata": {},
   "source": [
    "Q.32) define a parent class animal with a method make sound that prints \"Generic animal sound\". Createa child class dog inheriting from animal with a method make_sound that print \"Woof!\""
   ]
  },
  {
   "cell_type": "code",
   "execution_count": 10,
   "id": "847e1536",
   "metadata": {},
   "outputs": [
    {
     "name": "stdout",
     "output_type": "stream",
     "text": [
      "Generic animal sound\n",
      "Woof!\n"
     ]
    }
   ],
   "source": [
    "# Parent class\n",
    "class Animal:\n",
    "    def make_sound(self):\n",
    "        print(\"Generic animal sound\")\n",
    "\n",
    "# Child class\n",
    "class Dog(Animal):\n",
    "    def make_sound(self):\n",
    "        print(\"Woof!\")\n",
    "\n",
    "# Creating objects of the classes\n",
    "generic_animal = Animal()\n",
    "dog = Dog()\n",
    "\n",
    "# Calling the make_sound method\n",
    "generic_animal.make_sound()  # Output: Generic animal sound\n",
    "dog.make_sound()             "
   ]
  },
  {
   "cell_type": "raw",
   "id": "f3aa8aa1",
   "metadata": {},
   "source": [
    "Q.33) define a method move in the animal class that prints \"Animal Moves\" override the move method in the dog class to print \"Dog run\"."
   ]
  },
  {
   "cell_type": "code",
   "execution_count": 11,
   "id": "b9d8e26d",
   "metadata": {},
   "outputs": [
    {
     "name": "stdout",
     "output_type": "stream",
     "text": [
      "Animal Moves\n",
      "Dog runs\n"
     ]
    }
   ],
   "source": [
    "# Parent class\n",
    "class Animal:\n",
    "    def move(self):\n",
    "        print(\"Animal Moves\")\n",
    "\n",
    "# Child class\n",
    "class Dog(Animal):\n",
    "    def move(self):\n",
    "        print(\"Dog runs\")\n",
    "\n",
    "# Creating objects of the classes\n",
    "generic_animal = Animal()\n",
    "dog = Dog()\n",
    "\n",
    "# Calling the move method\n",
    "generic_animal.move()  # Output: Animal Moves\n",
    "dog.move()             # Output: Dog runs"
   ]
  },
  {
   "cell_type": "raw",
   "id": "bf2c2ce3",
   "metadata": {},
   "source": [
    "Q.34) create a class Mammal with a method reproduces that prints \"Giving birth to live young\" Create a class DogMammal inheriting from both dog and Mammal."
   ]
  },
  {
   "cell_type": "code",
   "execution_count": 12,
   "id": "c09ca806",
   "metadata": {},
   "outputs": [
    {
     "name": "stdout",
     "output_type": "stream",
     "text": [
      "Woof!\n",
      "Dog runs\n",
      "Giving birth to live young\n"
     ]
    }
   ],
   "source": [
    "\n",
    "# Mammal\n",
    "# Explore\n",
    "# Sure! Here’s how you can create a class Mammal with a method reproduces that prints “Giving birth to live young”, and a class DogMammal that inherits from both Dog and Mammal:\n",
    "\n",
    "\n",
    "# Parent class Animal\n",
    "class Animal:\n",
    "    def make_sound(self):\n",
    "        print(\"Generic animal sound\")\n",
    "\n",
    "# Child class Dog inheriting from Animal\n",
    "class Dog(Animal):\n",
    "    def make_sound(self):\n",
    "        print(\"Woof!\")\n",
    "\n",
    "    def move(self):\n",
    "        print(\"Dog runs\")\n",
    "\n",
    "# Another parent class Mammal\n",
    "class Mammal:\n",
    "    def reproduces(self):\n",
    "        print(\"Giving birth to live young\")\n",
    "\n",
    "# Child class DogMammal inheriting from both Dog and Mammal\n",
    "class DogMammal(Dog, Mammal):\n",
    "    pass\n",
    "\n",
    "# Creating an object of the DogMammal class\n",
    "dog_mammal = DogMammal()\n",
    "\n",
    "# Calling methods from both parent classes\n",
    "dog_mammal.make_sound()  # Output: Woof!\n",
    "dog_mammal.move()        # Output: Dog runs\n",
    "dog_mammal.reproduces()  # Output: Giving birth to live young\n",
    "\n",
    "\n",
    "# Animal Class: This is the parent class with a method make_sound that prints “Generic animal sound”.\n",
    "# Dog Class: This is a child class that inherits from Animal and overrides the make_sound method to print “Woof!” and adds a move method.\n",
    "# Mammal Class: This is another parent class with a method reproduces that prints “Giving birth to live young”.\n",
    "# DogMammal Class: This is a child class that inherits from both Dog and Mammal.\n",
    "# When you create an instance of DogMammal and call the methods, it will use the overridden methods from Dog "
   ]
  },
  {
   "cell_type": "markdown",
   "id": "e5504c17",
   "metadata": {},
   "source": [
    "Q.35) create a class GermanShepherd inheriting from Dog & override the make_sound method to print \"Bark!\""
   ]
  },
  {
   "cell_type": "code",
   "execution_count": 13,
   "id": "574004c5",
   "metadata": {},
   "outputs": [
    {
     "name": "stdout",
     "output_type": "stream",
     "text": [
      "Bark!\n"
     ]
    }
   ],
   "source": [
    "# Parent class Animal\n",
    "class Animal:\n",
    "    def make_sound(self):\n",
    "        print(\"Generic animal sound\")\n",
    "\n",
    "# Child class Dog inheriting from Animal\n",
    "class Dog(Animal):\n",
    "    def make_sound(self):\n",
    "        print(\"Woof!\")\n",
    "\n",
    "    def move(self):\n",
    "        print(\"Dog runs\")\n",
    "\n",
    "# Child class GermanShepherd inheriting from Dog\n",
    "class GermanShepherd(Dog):\n",
    "    def make_sound(self):\n",
    "        print(\"Bark!\")\n",
    "\n",
    "# Creating an object of the GermanShepherd class\n",
    "german_shepherd = GermanShepherd()\n",
    "\n",
    "# Calling the make_sound method\n",
    "german_shepherd.make_sound()  # Output: Bark!\n"
   ]
  },
  {
   "cell_type": "markdown",
   "id": "94865638",
   "metadata": {},
   "source": [
    "Q.36) Define constructors  in both the Animal and Dog classes with different initialization parameters."
   ]
  },
  {
   "cell_type": "code",
   "execution_count": 14,
   "id": "73cca142",
   "metadata": {},
   "outputs": [
    {
     "name": "stdout",
     "output_type": "stream",
     "text": [
      "Species: Cat, Age: 5\n",
      "Species: Dog, Age: 3\n",
      "Breed: Golden Retriever, Name: Buddy\n"
     ]
    }
   ],
   "source": [
    "class Animal:\n",
    "    def __init__(self, species, age):\n",
    "        self.species = species\n",
    "        self.age = age\n",
    "\n",
    "    def display_info(self):\n",
    "        print(f\"Species: {self.species}, Age: {self.age}\")\n",
    "\n",
    "class Dog(Animal):\n",
    "    def __init__(self, species, age, breed, name):\n",
    "        super().__init__(species, age)\n",
    "        self.breed = breed\n",
    "        self.name = name\n",
    "\n",
    "    def display_info(self):\n",
    "        super().display_info()\n",
    "        print(f\"Breed: {self.breed}, Name: {self.name}\")\n",
    "\n",
    "# Example usage:\n",
    "animal = Animal(\"Cat\", 5)\n",
    "animal.display_info()\n",
    "\n",
    "dog = Dog(\"Dog\", 3, \"Golden Retriever\", \"Buddy\")\n",
    "dog.display_info()\n"
   ]
  },
  {
   "cell_type": "raw",
   "id": "cc81fa08",
   "metadata": {},
   "source": [
    "Q.37) what is abstraction in python? How is it implemented?"
   ]
  },
  {
   "cell_type": "code",
   "execution_count": 15,
   "id": "63f1d4ed",
   "metadata": {},
   "outputs": [
    {
     "name": "stdout",
     "output_type": "stream",
     "text": [
      "Bark\n",
      "Sleeping...\n",
      "Meow\n",
      "Sleeping...\n"
     ]
    }
   ],
   "source": [
    "# implement it:\n",
    "\n",
    "# Abstract Classes: These are classes that cannot be instantiated and are meant to be subclassed. They can contain one or more abstract methods.\n",
    "# Abstract Methods: These are methods declared in an abstract class that do not have an implementation. Subclasses are required to provide implementations for these methods\n",
    "\n",
    "\n",
    "from abc import ABC, abstractmethod\n",
    "\n",
    "class Animal(ABC):\n",
    "    @abstractmethod\n",
    "    def make_sound(self):\n",
    "        pass\n",
    "\n",
    "    def sleep(self):\n",
    "        print(\"Sleeping...\")\n",
    "\n",
    "class Dog(Animal):\n",
    "    def make_sound(self):\n",
    "        print(\"Bark\")\n",
    "\n",
    "class Cat(Animal):\n",
    "    def make_sound(self):\n",
    "        print(\"Meow\")\n",
    "\n",
    "# Example usage:\n",
    "dog = Dog()\n",
    "dog.make_sound()  # Output: Bark\n",
    "dog.sleep()       # Output: Sleeping...\n",
    "\n",
    "cat = Cat()\n",
    "cat.make_sound()  # Output: Meow\n",
    "cat.sleep()       # Output: Sleeping\n",
    "\n",
    "\n"
   ]
  },
  {
   "cell_type": "raw",
   "id": "5e0afc07",
   "metadata": {},
   "source": [
    "Q.38) Explain the importance of abstraction in objectoriented programmin."
   ]
  },
  {
   "cell_type": "code",
   "execution_count": 16,
   "id": "6eba3a2f",
   "metadata": {},
   "outputs": [
    {
     "name": "stdout",
     "output_type": "stream",
     "text": [
      "Area: 12\n",
      "Area: 78.5\n"
     ]
    }
   ],
   "source": [
    "# 1. Simplifies Complex Systems\n",
    "# Abstraction helps manage complexity by allowing developers to focus on high-level functionalities while hiding the intricate details. This makes it easier to understand and work with complex systems.\n",
    "\n",
    "# 2. Enhances Code Reusability\n",
    "# Abstract classes and methods provide a blueprint for other classes. This encourages code reuse and consistency across different parts of an application. Developers can create new classes that inherit from abstract classes, ensuring they follow a predefined structure.\n",
    "\n",
    "# 3. Promotes Encapsulation\n",
    "# Abstraction supports encapsulation by hiding the internal state and implementation details of objects. This ensures that objects interact with each other through well-defined interfaces, reducing the risk of unintended interference and enhancing modularity.\n",
    "\n",
    "# 4. Improves Maintainability\n",
    "# By separating the interface from the implementation, abstraction makes it easier to update and maintain code. Changes to the implementation details do not affect the code that uses the abstracted interface, leading to more stable and maintainable systems.\n",
    "\n",
    "# 5. Facilitates Design Patterns\n",
    "# Many design patterns in OOP, such as Factory, Strategy, and Template Method, rely on abstraction. These patterns provide solutions to common problems and improve the design and architecture of software systems.\n",
    "\n",
    "# 6. Encourages Focus on What Matters\n",
    "# Abstraction allows developers to focus on what an object does rather than how it does it. This shift in focus helps in designing more intuitive and user-friendly interfaces, making it easier for other developers to use and extend the code.\n",
    "\n",
    "# Example in Python\n",
    "# Consider a simple example of an abstract class Shape with an abstract method area():\n",
    "\n",
    "\n",
    "from abc import ABC, abstractmethod\n",
    "\n",
    "class Shape(ABC):\n",
    "    @abstractmethod\n",
    "    def area(self):\n",
    "        pass\n",
    "\n",
    "class Rectangle(Shape):\n",
    "    def __init__(self, width, height):\n",
    "        self.width = width\n",
    "        self.height = height\n",
    "\n",
    "    def area(self):\n",
    "        return self.width * self.height\n",
    "\n",
    "class Circle(Shape):\n",
    "    def __init__(self, radius):\n",
    "        self.radius = radius\n",
    "\n",
    "    def area(self):\n",
    "        return 3.14 * self.radius * self.radius\n",
    "\n",
    "# Example usage:\n",
    "shapes = [Rectangle(3, 4), Circle(5)]\n",
    "for shape in shapes:\n",
    "    print(f\"Area: {shape.area()}\")\n",
    "\n"
   ]
  },
  {
   "cell_type": "raw",
   "id": "25a3d1d8",
   "metadata": {},
   "source": [
    "Q.39) How are abstract method different from regular method in python?"
   ]
  },
  {
   "cell_type": "code",
   "execution_count": 17,
   "id": "ecbb89d1",
   "metadata": {},
   "outputs": [
    {
     "name": "stdout",
     "output_type": "stream",
     "text": [
      "Bark\n",
      "Sleeping...\n"
     ]
    }
   ],
   "source": [
    "# Regular Methods\n",
    "# Definition: Regular methods are defined in any class without any special decorators.\n",
    "# Implementation: They have a complete implementation within the class where they are defined.\n",
    "# Purpose: Regular methods provide functionality that can be directly used by instances of the class.\n",
    "# Instantiation: You can instantiate the class containing regular methods without any restrictions.\n",
    "# Example\n",
    "# Here’s an example to illustrate the differenc\n",
    "\n",
    "from abc import ABC, abstractmethod\n",
    "\n",
    "class Animal(ABC):\n",
    "    @abstractmethod\n",
    "    def make_sound(self):\n",
    "        pass\n",
    "\n",
    "    def sleep(self):\n",
    "        print(\"Sleeping...\")\n",
    "\n",
    "class Dog(Animal):\n",
    "    def make_sound(self):\n",
    "        print(\"Bark\")\n",
    "\n",
    "# Abstract class cannot be instantiated\n",
    "# animal = Animal()  # This will raise an error\n",
    "\n",
    "# Subclass must implement the abstract method\n",
    "dog = Dog()\n",
    "dog.make_sound()  # Output: Bark\n",
    "dog.sleep()       # Output: Sleeping...\n"
   ]
  },
  {
   "cell_type": "raw",
   "id": "53a0026f",
   "metadata": {},
   "source": [
    "Q.40) how can you achieve abstraction using interface in python?"
   ]
  },
  {
   "cell_type": "code",
   "execution_count": 18,
   "id": "c97f6fdc",
   "metadata": {},
   "outputs": [
    {
     "name": "stdout",
     "output_type": "stream",
     "text": [
      "Bark\n",
      "Run\n",
      "Chirp\n",
      "Fly\n"
     ]
    }
   ],
   "source": [
    "# Steps to Achieve Abstraction Using Interfaces\n",
    "# Import the abc Module: This module provides the infrastructure for defining abstract base classes.\n",
    "# Create an Abstract Base Class: Inherit from ABC and use the @abstractmethod decorator to define abstract methods.\n",
    "# Implement the Interface in Subclasses: Subclasses must provide concrete implementations for all abstract methods.\n",
    "# Example\n",
    "\n",
    "from abc import ABC, abstractmethod\n",
    "\n",
    "class Animal(ABC):\n",
    "    @abstractmethod\n",
    "    def make_sound(self):\n",
    "        pass\n",
    "\n",
    "    @abstractmethod\n",
    "    def move(self):\n",
    "        pass\n",
    "\n",
    "class Dog(Animal):\n",
    "    def make_sound(self):\n",
    "        print(\"Bark\")\n",
    "\n",
    "    def move(self):\n",
    "        print(\"Run\")\n",
    "\n",
    "class Bird(Animal):\n",
    "    def make_sound(self):\n",
    "        print(\"Chirp\")\n",
    "\n",
    "    def move(self):\n",
    "        print(\"Fly\")\n",
    "\n",
    "# Example usage:\n",
    "dog = Dog()\n",
    "dog.make_sound()  # Output: Bark\n",
    "dog.move()        # Output: Run\n",
    "\n",
    "bird = Bird()\n",
    "bird.make_sound()  # Output: Chirp\n",
    "bird.move()        # Output: Fly"
   ]
  },
  {
   "cell_type": "raw",
   "id": "1662a381",
   "metadata": {},
   "source": [
    "Q.41) can you provide an example of how abstraction  can be utilized to create a common interface for a group of related classes in python.\n",
    "\n"
   ]
  },
  {
   "cell_type": "code",
   "execution_count": 20,
   "id": "487b4b4d",
   "metadata": {},
   "outputs": [
    {
     "name": "stdout",
     "output_type": "stream",
     "text": [
      "Area: 12\n",
      "Perimeter: 14\n",
      "Area: 78.5\n",
      "Perimeter: 31.400000000000002\n"
     ]
    }
   ],
   "source": [
    "from abc import ABC, abstractmethod\n",
    "\n",
    "class Shape(ABC):\n",
    "    @abstractmethod\n",
    "    def area(self):\n",
    "        pass\n",
    "\n",
    "    @abstractmethod\n",
    "    def perimeter(self):\n",
    "        pass\n",
    "\n",
    "class Rectangle(Shape):\n",
    "    def __init__(self, width, height):\n",
    "        self.width = width\n",
    "        self.height = height\n",
    "\n",
    "    def area(self):\n",
    "        return self.width * self.height\n",
    "\n",
    "    def perimeter(self):\n",
    "        return 2 * (self.width + self.height)\n",
    "\n",
    "class Circle(Shape):\n",
    "    def __init__(self, radius):\n",
    "        self.radius = radius\n",
    "\n",
    "    def area(self):\n",
    "        return 3.14 * (self.radius ** 2)\n",
    "\n",
    "    def perimeter(self):\n",
    "        return 2 * 3.14 * self.radius\n",
    "\n",
    "# Example usage:\n",
    "shapes = [Rectangle(3, 4), Circle(5)]\n",
    "for shape in shapes:\n",
    "    print(f\"Area: {shape.area()}\")\n",
    "    print(f\"Perimeter: {shape.perimeter()}\")"
   ]
  },
  {
   "cell_type": "markdown",
   "id": "bc1ed5ca",
   "metadata": {},
   "source": [
    "Q.42) how does python achieve polymorphism through method overriding?"
   ]
  },
  {
   "cell_type": "code",
   "execution_count": 22,
   "id": "f3c6a445",
   "metadata": {},
   "outputs": [
    {
     "name": "stdout",
     "output_type": "stream",
     "text": [
      "Bark\n",
      "Meow\n",
      "Some generic animal sound\n"
     ]
    }
   ],
   "source": [
    "# Inheritance: A subclass inherits methods and attributes from its superclass.\n",
    "# Overriding Methods: The subclass provides its own implementation of a method that is already defined in the superclass. The method in the subclass has the same name, parameters, and return type as the method in the superclass.\n",
    "# Dynamic Method Resolution: When a method is called on an object, Python determines which version of the method to execute based on the object’s class, not the reference type.\n",
    "\n",
    "\n",
    "class Animal:\n",
    "    def make_sound(self):\n",
    "        print(\"Some generic animal sound\")\n",
    "\n",
    "class Dog(Animal):\n",
    "    def make_sound(self):\n",
    "        print(\"Bark\")\n",
    "\n",
    "class Cat(Animal):\n",
    "    def make_sound(self):\n",
    "        print(\"Meow\")\n",
    "\n",
    "# Example usage:\n",
    "animals = [Dog(), Cat(), Animal()]\n",
    "for animal in animals:\n",
    "    animal.make_sound()"
   ]
  },
  {
   "cell_type": "raw",
   "id": "94a58ae4",
   "metadata": {},
   "source": [
    "Q.43) Define a base class with a method and a subclass that overrides the method."
   ]
  },
  {
   "cell_type": "code",
   "execution_count": 23,
   "id": "3811620a",
   "metadata": {},
   "outputs": [
    {
     "name": "stdout",
     "output_type": "stream",
     "text": [
      "Starting the vehicle's engine...\n",
      "Starting the car's engine...\n"
     ]
    }
   ],
   "source": [
    "class Vehicle:\n",
    "    def start_engine(self):\n",
    "        print(\"Starting the vehicle's engine...\")\n",
    "\n",
    "class Car(Vehicle):\n",
    "    def start_engine(self):\n",
    "        print(\"Starting the car's engine...\")\n",
    "\n",
    "# Example usage:\n",
    "vehicle = Vehicle()\n",
    "vehicle.start_engine()  # Output: Starting the vehicle's engine...\n",
    "\n",
    "car = Car()\n",
    "car.start_engine()      # Output: Starting the car's engine..."
   ]
  },
  {
   "cell_type": "raw",
   "id": "8402cda3",
   "metadata": {},
   "source": [
    "Q.44) Define a base class and multiple subclass with overridden the method."
   ]
  },
  {
   "cell_type": "code",
   "execution_count": 24,
   "id": "435e2433",
   "metadata": {},
   "outputs": [
    {
     "name": "stdout",
     "output_type": "stream",
     "text": [
      "Bark\n",
      "Meow\n",
      "Moo\n",
      "Some generic animal sound\n"
     ]
    }
   ],
   "source": [
    "class Animal:\n",
    "    def make_sound(self):\n",
    "        print(\"Some generic animal sound\")\n",
    "\n",
    "class Dog(Animal):\n",
    "    def make_sound(self):\n",
    "        print(\"Bark\")\n",
    "\n",
    "class Cat(Animal):\n",
    "    def make_sound(self):\n",
    "        print(\"Meow\")\n",
    "\n",
    "class Cow(Animal):\n",
    "    def make_sound(self):\n",
    "        print(\"Moo\")\n",
    "\n",
    "# Example usage:\n",
    "animals = [Dog(), Cat(), Cow(), Animal()]\n",
    "for animal in animals:\n",
    "    animal.make_sound()"
   ]
  },
  {
   "cell_type": "raw",
   "id": "6316af50",
   "metadata": {},
   "source": [
    "Q.45) How does plymorphism improve code readability and reusability?"
   ]
  },
  {
   "cell_type": "code",
   "execution_count": 25,
   "id": "41cde799",
   "metadata": {},
   "outputs": [
    {
     "name": "stdout",
     "output_type": "stream",
     "text": [
      "Bark\n",
      "Meow\n",
      "Moo\n"
     ]
    }
   ],
   "source": [
    "class Animal:\n",
    "    def make_sound(self):\n",
    "        pass\n",
    "\n",
    "class Dog(Animal):\n",
    "    def make_sound(self):\n",
    "        print(\"Bark\")\n",
    "\n",
    "class Cat(Animal):\n",
    "    def make_sound(self):\n",
    "        print(\"Meow\")\n",
    "\n",
    "class Cow(Animal):\n",
    "    def make_sound(self):\n",
    "        print(\"Moo\")\n",
    "\n",
    "# Function that works with any Animal\n",
    "def animal_sound(animal):\n",
    "    animal.make_sound()\n",
    "\n",
    "# Example usage:\n",
    "animals = [Dog(), Cat(), Cow()]\n",
    "for animal in animals:\n",
    "    animal_sound(animal)\n"
   ]
  },
  {
   "cell_type": "markdown",
   "id": "4f04506a",
   "metadata": {},
   "source": [
    "Q.46) Describe how python support polymorphism with duck typing."
   ]
  },
  {
   "cell_type": "code",
   "execution_count": 26,
   "id": "83128b0c",
   "metadata": {},
   "outputs": [
    {
     "name": "stdout",
     "output_type": "stream",
     "text": [
      "3\n",
      "5\n",
      "2\n"
     ]
    }
   ],
   "source": [
    "print(len([1, 2, 3]))  # Output: 3\n",
    "print(len(\"hello\"))    # Output: 5\n",
    "print(len({\"a\": 1, \"b\": 2}))  # Output: 2"
   ]
  },
  {
   "cell_type": "raw",
   "id": "0c2e7bdf",
   "metadata": {},
   "source": [
    "Q.47) how do you achieve encapsulation in pyhton?"
   ]
  },
  {
   "cell_type": "code",
   "execution_count": 27,
   "id": "5b05eb41",
   "metadata": {},
   "outputs": [
    {
     "name": "stdout",
     "output_type": "stream",
     "text": [
      "Name: Alice, Age: 30\n",
      "Alice\n",
      "30\n",
      "50000\n",
      "50000\n",
      "60000\n"
     ]
    }
   ],
   "source": [
    "class Person:\n",
    "    def __init__(self, name, age):\n",
    "        self.name = name          # Public attribute\n",
    "        self._age = age           # Protected attribute\n",
    "        self.__salary = 50000     # Private attribute\n",
    "\n",
    "    def display_info(self):\n",
    "        print(f\"Name: {self.name}, Age: {self._age}\")\n",
    "\n",
    "    def get_salary(self):\n",
    "        return self.__salary\n",
    "\n",
    "    def set_salary(self, salary):\n",
    "        if salary > 0:\n",
    "            self.__salary = salary\n",
    "        else:\n",
    "            print(\"Invalid salary\")\n",
    "\n",
    "# Example usage:\n",
    "person = Person(\"Alice\", 30)\n",
    "person.display_info()  # Output: Name: Alice, Age: 30\n",
    "\n",
    "# Accessing public attribute\n",
    "print(person.name)  # Output: Alice\n",
    "\n",
    "# Accessing protected attribute (not recommended)\n",
    "print(person._age)  # Output: 30\n",
    "\n",
    "# Accessing private attribute (will raise an AttributeError)\n",
    "# print(person.__salary)  # Uncommenting this line will raise an error\n",
    "\n",
    "# Accessing private attribute using name mangling\n",
    "print(person._Person__salary)  # Output: 50000\n",
    "\n",
    "# Using getter and setter methods for private attribute\n",
    "print(person.get_salary())  # Output: 50000\n",
    "person.set_salary(60000)\n",
    "print(person.get_salary())  # Output: 60000"
   ]
  },
  {
   "cell_type": "raw",
   "id": "76a9a4d1",
   "metadata": {},
   "source": [
    "Q.48)  can encapsulation be bypassed in python?If so, how?"
   ]
  },
  {
   "cell_type": "code",
   "execution_count": 28,
   "id": "b318ee87",
   "metadata": {},
   "outputs": [
    {
     "name": "stdout",
     "output_type": "stream",
     "text": [
      "Alice\n",
      "31\n"
     ]
    }
   ],
   "source": [
    "class Person:\n",
    "    def __init__(self, name, age):\n",
    "        self._name = name  # Protected attribute\n",
    "        self._age = age    # Protected attribute\n",
    "\n",
    "person = Person(\"Alice\", 30)\n",
    "print(person._name)  # Output: Alice\n",
    "person._age = 31\n",
    "print(person._age)   # Output: 31"
   ]
  },
  {
   "cell_type": "code",
   "execution_count": 29,
   "id": "ebd569d3",
   "metadata": {},
   "outputs": [
    {
     "name": "stdout",
     "output_type": "stream",
     "text": [
      "Name: Alice, Age: 30\n",
      "Alice\n",
      "31\n"
     ]
    }
   ],
   "source": [
    "class Person:\n",
    "    def __init__(self, name, age):\n",
    "        self.__name = name  # Private attribute\n",
    "        self.__age = age    # Private attribute\n",
    "\n",
    "    def display_info(self):\n",
    "        print(f\"Name: {self.__name}, Age: {self.__age}\")\n",
    "\n",
    "person = Person(\"Alice\", 30)\n",
    "person.display_info()  # Output: Name: Alice, Age: 30\n",
    "\n",
    "# Accessing private attribute using name mangling\n",
    "print(person._Person__name)  # Output: Alice\n",
    "person._Person__age = 31\n",
    "print(person._Person__age)   # Output: 31"
   ]
  },
  {
   "cell_type": "markdown",
   "id": "be055af9",
   "metadata": {},
   "source": [
    "Q.49) Implement a class BankAccount with a private balace attribute.Include method to deposit, withdraw, and check the balance."
   ]
  },
  {
   "cell_type": "code",
   "execution_count": 30,
   "id": "7cae9e0e",
   "metadata": {},
   "outputs": [
    {
     "name": "stdout",
     "output_type": "stream",
     "text": [
      "Deposited: 50\n",
      "Withdrew: 30\n",
      "Current balance: 120\n"
     ]
    }
   ],
   "source": [
    "class BankAccount:\n",
    "    def __init__(self, initial_balance=0):\n",
    "        self.__balance = initial_balance  # Private attribute\n",
    "\n",
    "    def deposit(self, amount):\n",
    "        if amount > 0:\n",
    "            self.__balance += amount\n",
    "            print(f\"Deposited: {amount}\")\n",
    "        else:\n",
    "            print(\"Deposit amount must be positive.\")\n",
    "\n",
    "    def withdraw(self, amount):\n",
    "        if 0 < amount <= self.__balance:\n",
    "            self.__balance -= amount\n",
    "            print(f\"Withdrew: {amount}\")\n",
    "        else:\n",
    "            print(\"Insufficient balance or invalid amount.\")\n",
    "\n",
    "    def check_balance(self):\n",
    "        return self.__balance\n",
    "\n",
    "# Example usage:\n",
    "account = BankAccount(100)\n",
    "account.deposit(50)\n",
    "account.withdraw(30)\n",
    "print(f\"Current balance: {account.check_balance()}\")\n"
   ]
  },
  {
   "cell_type": "markdown",
   "id": "c34297ef",
   "metadata": {},
   "source": [
    "Q.50) Develop a person class with private attributes name and email, and method to set and get the email."
   ]
  },
  {
   "cell_type": "code",
   "execution_count": 31,
   "id": "d8b593ca",
   "metadata": {},
   "outputs": [
    {
     "name": "stdout",
     "output_type": "stream",
     "text": [
      "Name: Alice, Email: alice@example.com\n",
      "alice@example.com\n",
      "alice.new@example.com\n",
      "Invalid email address\n"
     ]
    }
   ],
   "source": [
    "class Person:\n",
    "    def __init__(self, name, email):\n",
    "        self.__name = name  # Private attribute\n",
    "        self.__email = email  # Private attribute\n",
    "\n",
    "    def get_email(self):\n",
    "        return self.__email\n",
    "\n",
    "    def set_email(self, email):\n",
    "        if \"@\" in email and \".\" in email:\n",
    "            self.__email = email\n",
    "        else:\n",
    "            print(\"Invalid email address\")\n",
    "\n",
    "    def display_info(self):\n",
    "        print(f\"Name: {self.__name}, Email: {self.__email}\")\n",
    "\n",
    "# Example usage:\n",
    "person = Person(\"Alice\", \"alice@example.com\")\n",
    "person.display_info()  # Output: Name: Alice, Email: alice@example.com\n",
    "\n",
    "# Getting the email\n",
    "print(person.get_email())  # Output: alice@example.com\n",
    "\n",
    "# Setting a new email\n",
    "person.set_email(\"alice.new@example.com\")\n",
    "print(person.get_email())  # Output: alice.new@example.com\n",
    "\n",
    "# Attempting to set an invalid email\n",
    "person.set_email(\"invalid-email\")\n"
   ]
  },
  {
   "cell_type": "markdown",
   "id": "7f24f534",
   "metadata": {},
   "source": [
    "Q.51) why is encapsulation considered a pillar of object-oriented programming(oop)?"
   ]
  },
  {
   "cell_type": "code",
   "execution_count": 32,
   "id": "79890a05",
   "metadata": {},
   "outputs": [
    {
     "name": "stdout",
     "output_type": "stream",
     "text": [
      "Current balance: 120\n"
     ]
    }
   ],
   "source": [
    "# Encapsulation is considered one of the four pillars of object-oriented programming (OOP) because it plays a crucial role in managing complexity, enhancing security, and improving maintainability in software design. Here are some key reasons why encapsulation is so important:\n",
    "\n",
    "# 1. Data Hiding\n",
    "# Encapsulation allows you to hide the internal state of an object and restrict access to it. This means that the internal representation of an object is hidden from the outside, and only a controlled interface is exposed. This helps in protecting the integrity of the data by preventing unauthorized access and modification.\n",
    "\n",
    "# 2. Modularity\n",
    "# By bundling data and methods that operate on the data into a single unit (class), encapsulation promotes modularity. This makes it easier to understand, develop, and maintain the code. Each class can be developed and tested independently, which simplifies the development process.\n",
    "\n",
    "# 3. Controlled Access\n",
    "# Encapsulation provides a way to control access to the data through getter and setter methods. This allows you to enforce rules and constraints on how the data is accessed and modified. For example, you can validate the data before setting it or ensure that certain conditions are met before allowing access.\n",
    "\n",
    "# 4. Improved Maintainability\n",
    "# Encapsulation makes the code more maintainable by isolating changes. If the internal implementation of a class changes, the changes are confined to that class and do not affect other parts of the code that use the class. This reduces the risk of introducing bugs when making changes and makes the code easier to update.\n",
    "\n",
    "# 5. Enhanced Security\n",
    "# By restricting direct access to the internal state of an object, encapsulation enhances security. It ensures that the object’s state can only be modified in controlled ways, reducing the likelihood of accidental or malicious changes.\n",
    "\n",
    "# Example\n",
    "# Consider a BankAccount class with encapsulated balance:\n",
    "\n",
    "\n",
    "\n",
    "class BankAccount:\n",
    "    def __init__(self, initial_balance=0):\n",
    "        self.__balance = initial_balance  # Private attribute\n",
    "\n",
    "    def deposit(self, amount):\n",
    "        if amount > 0:\n",
    "            self.__balance += amount\n",
    "        else:\n",
    "            print(\"Deposit amount must be positive.\")\n",
    "\n",
    "    def withdraw(self, amount):\n",
    "        if 0 < amount <= self.__balance:\n",
    "            self.__balance -= amount\n",
    "        else:\n",
    "            print(\"Insufficient balance or invalid amount.\")\n",
    "\n",
    "    def check_balance(self):\n",
    "        return self.__balance\n",
    "\n",
    "# Example usage:\n",
    "account = BankAccount(100)\n",
    "account.deposit(50)\n",
    "account.withdraw(30)\n",
    "print(f\"Current balance: {account.check_balance()}\")"
   ]
  },
  {
   "cell_type": "markdown",
   "id": "ec039c4a",
   "metadata": {},
   "source": [
    "Q.52) Create a decorator in python that adds functionality to a simple function by printing a massage before and after the function execution."
   ]
  },
  {
   "cell_type": "code",
   "execution_count": 33,
   "id": "4009ffcb",
   "metadata": {},
   "outputs": [
    {
     "name": "stdout",
     "output_type": "stream",
     "text": [
      "Function is about to run...\n",
      "Hello, Alice!\n",
      "Function has finished running.\n"
     ]
    }
   ],
   "source": [
    "def print_decorator(func):\n",
    "    def wrapper(*args, **kwargs):\n",
    "        print(\"Function is about to run...\")\n",
    "        result = func(*args, **kwargs)\n",
    "        print(\"Function has finished running.\")\n",
    "        return result\n",
    "    return wrapper\n",
    "\n",
    "# Applying the decorator to a simple function\n",
    "@print_decorator\n",
    "def greet(name):\n",
    "    print(f\"Hello, {name}!\")\n",
    "\n",
    "# Example usage:\n",
    "greet(\"Alice\")"
   ]
  },
  {
   "cell_type": "raw",
   "id": "a187493a",
   "metadata": {},
   "source": [
    "Q.53)  Modify the decorator to accept the pass function argument to the wrapped function."
   ]
  },
  {
   "cell_type": "code",
   "execution_count": 34,
   "id": "fd3bb7f0",
   "metadata": {},
   "outputs": [
    {
     "name": "stdout",
     "output_type": "stream",
     "text": [
      "Function is about to run...\n",
      "Hello, Alice!\n",
      "Function has finished running.\n",
      "Function is about to run...\n",
      "Hi, Bob!\n",
      "Function has finished running.\n"
     ]
    }
   ],
   "source": [
    "def print_decorator(func):\n",
    "    def wrapper(*args, **kwargs):\n",
    "        print(\"Function is about to run...\")\n",
    "        result = func(*args, **kwargs)\n",
    "        print(\"Function has finished running.\")\n",
    "        return result\n",
    "    return wrapper\n",
    "\n",
    "# Applying the decorator to a function that takes arguments\n",
    "@print_decorator\n",
    "def greet(name, greeting=\"Hello\"):\n",
    "    print(f\"{greeting}, {name}!\")\n",
    "\n",
    "# Example usage:\n",
    "greet(\"Alice\")\n",
    "greet(\"Bob\", greeting=\"Hi\")\n"
   ]
  },
  {
   "cell_type": "raw",
   "id": "6bdc511b",
   "metadata": {},
   "source": [
    "Q.54) Create two decorators, and apply them to a single function.Ensure that key Execute in the order they are appiled."
   ]
  },
  {
   "cell_type": "code",
   "execution_count": 35,
   "id": "508f265a",
   "metadata": {},
   "outputs": [
    {
     "name": "stdout",
     "output_type": "stream",
     "text": [
      "Decorator One: Before function execution\n",
      "Decorator Two: Before function execution\n",
      "Hello, Alice!\n",
      "Decorator Two: After function execution\n",
      "Decorator One: After function execution\n"
     ]
    }
   ],
   "source": [
    "def decorator_one(func):\n",
    "    def wrapper(*args, **kwargs):\n",
    "        print(\"Decorator One: Before function execution\")\n",
    "        result = func(*args, **kwargs)\n",
    "        print(\"Decorator One: After function execution\")\n",
    "        return result\n",
    "    return wrapper\n",
    "\n",
    "def decorator_two(func):\n",
    "    def wrapper(*args, **kwargs):\n",
    "        print(\"Decorator Two: Before function execution\")\n",
    "        result = func(*args, **kwargs)\n",
    "        print(\"Decorator Two: After function execution\")\n",
    "        return result\n",
    "    return wrapper\n",
    "\n",
    "# Applying the decorators to a function\n",
    "@decorator_one\n",
    "@decorator_two\n",
    "def greet(name):\n",
    "    print(f\"Hello, {name}!\")\n",
    "\n",
    "# Example usage:\n",
    "greet(\"Alice\")"
   ]
  },
  {
   "cell_type": "markdown",
   "id": "0e74abb6",
   "metadata": {},
   "source": [
    "Q.56) Create a decorator that preserve the metadeta of the original function."
   ]
  },
  {
   "cell_type": "code",
   "execution_count": 3,
   "id": "1fc2aab1",
   "metadata": {},
   "outputs": [
    {
     "name": "stdout",
     "output_type": "stream",
     "text": [
      "Something is happening before the function is called.\n",
      "Hello, Alice!\n",
      "Something is happening after the function is called.\n",
      "say_hello\n",
      "This function greets the person whose name is passed as an argument.\n"
     ]
    }
   ],
   "source": [
    "import functools\n",
    "\n",
    "def my_decorator(func):\n",
    "    @functools.wraps(func)\n",
    "    def wrapper(*args, **kwargs):\n",
    "        print(\"Something is happening before the function is called.\")\n",
    "        result = func(*args, **kwargs)\n",
    "        print(\"Something is happening after the function is called.\")\n",
    "        return result\n",
    "    return wrapper\n",
    "\n",
    "@my_decorator\n",
    "def say_hello(name):\n",
    "    \"\"\"This function greets the person whose name is passed as an argument.\"\"\"\n",
    "    print(f\"Hello, {name}!\")\n",
    "\n",
    "# Testing the decorator\n",
    "say_hello(\"Alice\")\n",
    "\n",
    "# Checking if metadata is preserved\n",
    "print(say_hello.__name__)  # Output: say_hello\n",
    "print(say_hello.__doc__)   # Output: This function greets the person whose name is passed as an argument."
   ]
  },
  {
   "cell_type": "markdown",
   "id": "3c3347ce",
   "metadata": {},
   "source": [
    "Q.57) create a pyhton class 'calculator' with a static method 'add' that takes in two numbers and return their sum."
   ]
  },
  {
   "cell_type": "code",
   "execution_count": 5,
   "id": "b3611f7a",
   "metadata": {},
   "outputs": [
    {
     "name": "stdout",
     "output_type": "stream",
     "text": [
      "15\n"
     ]
    }
   ],
   "source": [
    "class calculator:\n",
    "    @staticmethod\n",
    "    def add(num1,num2):\n",
    "        return num1+num2\n",
    "result = calculator.add(10,5)\n",
    "print(result)"
   ]
  },
  {
   "cell_type": "markdown",
   "id": "582bdc88",
   "metadata": {},
   "source": [
    "Q.58) create a python class 'Employee' with a class 'methodget_employee_count' that return the total numbers of employee created"
   ]
  },
  {
   "cell_type": "code",
   "execution_count": 1,
   "id": "918c775a",
   "metadata": {},
   "outputs": [
    {
     "ename": "AttributeError",
     "evalue": "type object 'Employee' has no attribute 'get_employee_count'",
     "output_type": "error",
     "traceback": [
      "\u001b[1;31m---------------------------------------------------------------------------\u001b[0m",
      "\u001b[1;31mAttributeError\u001b[0m                            Traceback (most recent call last)",
      "Cell \u001b[1;32mIn[1], line 19\u001b[0m\n\u001b[0;32m     15\u001b[0m emp2 \u001b[38;5;241m=\u001b[39m Employee(\u001b[38;5;124m\"\u001b[39m\u001b[38;5;124mbob\u001b[39m\u001b[38;5;124m\"\u001b[39m)\n\u001b[0;32m     16\u001b[0m emp3 \u001b[38;5;241m=\u001b[39m Employee(\u001b[38;5;124m\"\u001b[39m\u001b[38;5;124mcharlie\u001b[39m\u001b[38;5;124m\"\u001b[39m)\n\u001b[1;32m---> 19\u001b[0m \u001b[38;5;28mprint\u001b[39m(Employee\u001b[38;5;241m.\u001b[39mget_employee_count())\n",
      "\u001b[1;31mAttributeError\u001b[0m: type object 'Employee' has no attribute 'get_employee_count'"
     ]
    }
   ],
   "source": [
    "class Employee:\n",
    "    #class variable to keep track of the number of employee\n",
    "    employee_count=0\n",
    "    \n",
    "    def __init__(self , name):\n",
    "        self.name = name\n",
    "        Employee.employee_count +=1\n",
    "\n",
    "@classmethod\n",
    "def get_employee_count(cls):\n",
    "    return cls.employee_count\n",
    "\n",
    "#example usage:\n",
    "emp1 = Employee(\"Alice\")\n",
    "emp2 = Employee(\"bob\")\n",
    "emp3 = Employee(\"charlie\")\n",
    "\n",
    "\n",
    "print(Employee.get_employee_count())"
   ]
  },
  {
   "cell_type": "markdown",
   "id": "6e165970",
   "metadata": {},
   "source": [
    "Q.59)create a python class 'stringformatter' with a static method 'reverse_string' that takes a string as input and return its reverse."
   ]
  },
  {
   "cell_type": "code",
   "execution_count": 16,
   "id": "91f8c510",
   "metadata": {},
   "outputs": [
    {
     "name": "stdout",
     "output_type": "stream",
     "text": [
      "!dlrow,olleh\n"
     ]
    }
   ],
   "source": [
    "class StringFormatter:\n",
    "    @staticmethod\n",
    "    def reverse_string(input_string):\n",
    "        return input_string[::-1]\n",
    "    \n",
    "result = StringFormatter.reverse_string(\"hello,world!\")\n",
    "print(result)"
   ]
  },
  {
   "cell_type": "markdown",
   "id": "58379d30",
   "metadata": {},
   "source": [
    "Q.60) create a python class 'circle' with class method 'calculate_area' that calculates the area of a circle given its radius."
   ]
  },
  {
   "cell_type": "code",
   "execution_count": 5,
   "id": "940c32fc",
   "metadata": {},
   "outputs": [
    {
     "name": "stdout",
     "output_type": "stream",
     "text": [
      "the area of the circle with radius 5 is 78.53981633974483\n"
     ]
    }
   ],
   "source": [
    "import math\n",
    "\n",
    "class Circle:\n",
    "    @classmethod\n",
    "    def calculate_area(cls,radius):\n",
    "        return math.pi * (radius **2)\n",
    "    \n",
    "# example usage:\n",
    "radius = 5\n",
    "area = Circle.calculate_area(radius)\n",
    "print(f\"the area of the circle with radius {radius} is {area}\")"
   ]
  },
  {
   "cell_type": "markdown",
   "id": "06b37eb2",
   "metadata": {},
   "source": [
    "Q.61) create a python class 'Tempretureconverter' with a static method 'clesius'_to_fahrenheit'\n",
    "\n",
    "that convert celsius to fahrenheit."
   ]
  },
  {
   "cell_type": "code",
   "execution_count": 6,
   "id": "2529c42f",
   "metadata": {},
   "outputs": [
    {
     "name": "stdout",
     "output_type": "stream",
     "text": [
      "25°C is equal to 77.0°C\n"
     ]
    }
   ],
   "source": [
    "class tempretureconverter:\n",
    "    @staticmethod\n",
    "    def celsius_to_fahrenheit(celsius):\n",
    "        return (celsius * 9/5)+32\n",
    "    \n",
    "celsius_temp = 25\n",
    "fahrenheit_temp = tempretureconverter.celsius_to_fahrenheit(celsius_temp)\n",
    "print(f\"{celsius_temp}\\u00B0C is equal to {fahrenheit_temp}\\u00B0C\")"
   ]
  },
  {
   "cell_type": "markdown",
   "id": "ac01c79e",
   "metadata": {},
   "source": [
    "Q.62) what is purpose of the--str--()method in python classes? provide an example."
   ]
  },
  {
   "cell_type": "code",
   "execution_count": 9,
   "id": "65461dc8",
   "metadata": {},
   "outputs": [
    {
     "name": "stdout",
     "output_type": "stream",
     "text": [
      "Person(john,Doe,30)\n"
     ]
    }
   ],
   "source": [
    "class Person:\n",
    "    def __init__(self,first_name, last_name, age):\n",
    "        self.first_name = first_name\n",
    "        self.last_name = last_name\n",
    "        self.age = age\n",
    "        \n",
    "    def __str__(self):\n",
    "        return f'Person({self.first_name},{self.last_name},{self.age})'\n",
    "    \n",
    "person = Person('john','Doe','30')\n",
    "print(person)"
   ]
  },
  {
   "cell_type": "markdown",
   "id": "4080060b",
   "metadata": {},
   "source": [
    "Q.63) how does the--len--() method work in python classes? provide an example "
   ]
  },
  {
   "cell_type": "code",
   "execution_count": 15,
   "id": "2a72a28a",
   "metadata": {},
   "outputs": [
    {
     "name": "stdout",
     "output_type": "stream",
     "text": [
      "5\n"
     ]
    }
   ],
   "source": [
    "class Mylist:\n",
    "    def __init__(self,elements):\n",
    "        self.elements = elements\n",
    "        \n",
    "    def __len__(self):\n",
    "        return len(self.elements)\n",
    "    \n",
    "my_list = Mylist([1,2,3,4,5])\n",
    "print(len(my_list))"
   ]
  },
  {
   "cell_type": "markdown",
   "id": "18fb1a98",
   "metadata": {},
   "source": [
    "Q.64) explain the use of the--add--()method in python classes.provide an example."
   ]
  },
  {
   "cell_type": "code",
   "execution_count": 16,
   "id": "7b5ddf32",
   "metadata": {},
   "outputs": [
    {
     "name": "stdout",
     "output_type": "stream",
     "text": [
      "200 kg\n"
     ]
    }
   ],
   "source": [
    "class Weight:\n",
    "    def __init__(self,kilos):\n",
    "        self.kilos = kilos\n",
    "        \n",
    "    def __add__(self,other):\n",
    "        return Weight(self.kilos + other.kilos)\n",
    "    \n",
    "    def __str__(self):\n",
    "        return f\"{self.kilos} kg\"\n",
    "    \n",
    "w1= Weight(50)\n",
    "w2 = Weight(150)\n",
    "total_weight = w1+w2\n",
    "print(total_weight)"
   ]
  },
  {
   "cell_type": "markdown",
   "id": "473949c4",
   "metadata": {},
   "source": [
    "Q.65) what is purpose of the --getitem--() method in python? provide an example."
   ]
  },
  {
   "cell_type": "code",
   "execution_count": 18,
   "id": "3de5c09f",
   "metadata": {},
   "outputs": [
    {
     "name": "stdout",
     "output_type": "stream",
     "text": [
      "30\n"
     ]
    }
   ],
   "source": [
    "class CustomList:\n",
    "    def __init__(self,data):\n",
    "        self.data = data\n",
    "        \n",
    "    def __getitem__(self,index):\n",
    "        return self.data[index]\n",
    "    \n",
    "my_list = CustomList([10,20,30,40,50])\n",
    "print(my_list[2])"
   ]
  },
  {
   "cell_type": "markdown",
   "id": "33943a38",
   "metadata": {},
   "source": [
    "Q.66) explain the usages of the --iter--()--and--next--() methods in python.provide an example using iterators. "
   ]
  },
  {
   "cell_type": "code",
   "execution_count": 22,
   "id": "07d77c2e",
   "metadata": {},
   "outputs": [
    {
     "name": "stdout",
     "output_type": "stream",
     "text": [
      "1\n",
      "2\n",
      "3\n",
      "4\n"
     ]
    }
   ],
   "source": [
    "class MyRange:\n",
    "    def __init__(self,start,end):\n",
    "        self.current = start\n",
    "        self.end = end\n",
    "        \n",
    "    def __iter__(self):\n",
    "        return self\n",
    "    \n",
    "    def __next__(self):\n",
    "        if self.current >= self.end:\n",
    "            raise StopIteration\n",
    "        \n",
    "        else:\n",
    "            current = self.current\n",
    "            self.current +=1\n",
    "            return current\n",
    "        \n",
    "my_range=MyRange(1,5)\n",
    "for number in my_range:\n",
    "    print(number)"
   ]
  },
  {
   "cell_type": "markdown",
   "id": "c96b91fd",
   "metadata": {},
   "source": [
    "Q.67) what is the purpose of a getter method in python? provide an example demostrating the use of a getter method using property decorators."
   ]
  },
  {
   "cell_type": "code",
   "execution_count": 24,
   "id": "1dd51260",
   "metadata": {},
   "outputs": [
    {
     "name": "stdout",
     "output_type": "stream",
     "text": [
      "Alice\n",
      "30\n"
     ]
    }
   ],
   "source": [
    "class Person:\n",
    "    def __init__(self,name,age):\n",
    "        self._name = name \n",
    "        self._age = age\n",
    "    @property\n",
    "    def name(self):\n",
    "        return self._name\n",
    "    @property\n",
    "    def age(self):\n",
    "        return self._age\n",
    "    \n",
    "person = Person(\"Alice\",30)\n",
    "print(person.name)\n",
    "print(person.age)"
   ]
  },
  {
   "cell_type": "markdown",
   "id": "79884a57",
   "metadata": {},
   "source": [
    "Q.68) explain the role of setter methods in python.Demostrate how to use a settter method to modify a class atrribute using property decorators."
   ]
  },
  {
   "cell_type": "code",
   "execution_count": 27,
   "id": "c343dde1",
   "metadata": {},
   "outputs": [
    {
     "name": "stdout",
     "output_type": "stream",
     "text": [
      "30\n",
      "35\n",
      "Age cannot be negative\n"
     ]
    }
   ],
   "source": [
    "class Person:\n",
    "    def __init__(self, name, age):\n",
    "        self._name = name\n",
    "        self._age = age\n",
    "\n",
    "    @property\n",
    "    def name(self):\n",
    "        return self._name\n",
    "\n",
    "    @property\n",
    "    def age(self):\n",
    "        return self._age\n",
    "\n",
    "    @age.setter\n",
    "    def age(self, value):\n",
    "        if value >= 0:\n",
    "            self._age = value\n",
    "        else:\n",
    "            raise ValueError(\"Age cannot be negative\")\n",
    "\n",
    "\n",
    "person = Person(\"Alice\", 30)\n",
    "print(person.age)  # Output: 30\n",
    "\n",
    "person.age = 35\n",
    "print(person.age)  # Output: 35\n",
    "\n",
    "\n",
    "try:\n",
    "    person.age = -5\n",
    "except ValueError as e:\n",
    "    print(e)  # Output: Age cannot be negative\n"
   ]
  },
  {
   "cell_type": "code",
   "execution_count": null,
   "id": "65190d33",
   "metadata": {},
   "outputs": [],
   "source": [
    "Q.69) what is the purpose of the @deleter decorator in python property decorators."
   ]
  }
 ],
 "metadata": {
  "kernelspec": {
   "display_name": "Python 3 (ipykernel)",
   "language": "python",
   "name": "python3"
  },
  "language_info": {
   "codemirror_mode": {
    "name": "ipython",
    "version": 3
   },
   "file_extension": ".py",
   "mimetype": "text/x-python",
   "name": "python",
   "nbconvert_exporter": "python",
   "pygments_lexer": "ipython3",
   "version": "3.11.5"
  }
 },
 "nbformat": 4,
 "nbformat_minor": 5
}
